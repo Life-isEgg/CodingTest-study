{
 "cells": [
  {
   "cell_type": "code",
   "execution_count": 6,
   "metadata": {},
   "outputs": [
    {
     "name": "stdout",
     "output_type": "stream",
     "text": [
      "2 4\n",
      "CAAB\n",
      "ADCB\n",
      "3\n"
     ]
    }
   ],
   "source": [
    "#알파벳\n",
    "#첫째줄에 말이 지날 수 있는 최대의 칸 수를 출력한다\n",
    "\n",
    "#백트래킹..?\n",
    "\n",
    "#입력\n",
    "\n",
    "r,c = map(int,input().split())\n",
    "board = []\n",
    "for _ in range(r):\n",
    "    board.append(input())\n",
    "\n",
    "visit = [0] * 26 #알파벳 26개\n",
    "visit[ord(board[0][0])-65] = 1\n",
    "\n",
    "dx = [1,-1,0,0]\n",
    "dy = [0,0,1,-1]\n",
    "\n",
    "def dfs(x,y,cnt):\n",
    "    global count\n",
    "    \n",
    "    count = max(count,cnt)\n",
    "    for i in range(4):\n",
    "        nx, ny = x+dx[i], y+dy[i]\n",
    "        if 0<=nx<r and 0<=ny<c:\n",
    "            if not visit[ord(board[nx][ny])-65]:\n",
    "                visit[ord(board[nx][ny])-65] = 1\n",
    "                dfs(nx,ny,cnt+1)\n",
    "                visit[ord(board[nx][ny])-65] = 0\n",
    "    \n",
    "\n",
    "count = 1 #시작할때 한 칸\n",
    "dfs(0,0,1)\n",
    "print(count)"
   ]
  },
  {
   "cell_type": "code",
   "execution_count": 3,
   "metadata": {},
   "outputs": [
    {
     "name": "stdout",
     "output_type": "stream",
     "text": [
      "65\n",
      "97\n"
     ]
    }
   ],
   "source": [
    "print(ord(\"A\"))\n",
    "print(ord(\"a\"))"
   ]
  },
  {
   "cell_type": "code",
   "execution_count": null,
   "metadata": {},
   "outputs": [],
   "source": []
  }
 ],
 "metadata": {
  "kernelspec": {
   "display_name": "Python 3",
   "language": "python",
   "name": "python3"
  },
  "language_info": {
   "codemirror_mode": {
    "name": "ipython",
    "version": 3
   },
   "file_extension": ".py",
   "mimetype": "text/x-python",
   "name": "python",
   "nbconvert_exporter": "python",
   "pygments_lexer": "ipython3",
   "version": "3.7.3"
  }
 },
 "nbformat": 4,
 "nbformat_minor": 2
}
