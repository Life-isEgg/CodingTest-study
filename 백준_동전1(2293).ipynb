{
 "cells": [
  {
   "cell_type": "code",
   "execution_count": 13,
   "metadata": {},
   "outputs": [
    {
     "name": "stdout",
     "output_type": "stream",
     "text": [
      "3 10\n",
      "1\n",
      "2\n",
      "5\n",
      "10\n"
     ]
    }
   ],
   "source": [
    "#동전1\n",
    "#조합아니었음\n",
    "#가치의 합이 k원이 되는 경우의 수 구하기! -> 합이 1원이 되는, 2원이 되는.. i원 점화식\n",
    "\n",
    "n,k = map(int, input().split())\n",
    "coins = [ int(input()) for _ in range(n)]\n",
    "\n",
    "dp = [0 for _ in range(k+1)]\n",
    "dp[0] = 1 #동전 1개만 쓸때 \n",
    "\n",
    "for c in coins:\n",
    "    for i in range(c, k+1):\n",
    "        if i >= c:\n",
    "            dp[i] += dp[i-c]\n",
    "\n",
    "print(dp[k])"
   ]
  },
  {
   "cell_type": "code",
   "execution_count": null,
   "metadata": {},
   "outputs": [],
   "source": []
  }
 ],
 "metadata": {
  "kernelspec": {
   "display_name": "Python 3",
   "language": "python",
   "name": "python3"
  },
  "language_info": {
   "codemirror_mode": {
    "name": "ipython",
    "version": 3
   },
   "file_extension": ".py",
   "mimetype": "text/x-python",
   "name": "python",
   "nbconvert_exporter": "python",
   "pygments_lexer": "ipython3",
   "version": "3.7.3"
  }
 },
 "nbformat": 4,
 "nbformat_minor": 2
}
