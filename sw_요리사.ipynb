{
 "cells": [
  {
   "cell_type": "code",
   "execution_count": 19,
   "metadata": {},
   "outputs": [
    {
     "name": "stdout",
     "output_type": "stream",
     "text": [
      "1\n",
      "4\n",
      "0 5 3 8\n",
      "4 0 4 1\n",
      "2 5 0 3\n",
      "7 2 3 0\n",
      "#1,2\n"
     ]
    }
   ],
   "source": [
    "#조합\n",
    "from itertools import combinations\n",
    "\n",
    "T = int(input())\n",
    "for tc in range(T):\n",
    "    n = int(input())\n",
    "    table = [list(map(int,input().split())) for _ in range(n)]\n",
    "    answer = 9999999\n",
    "    \n",
    "    for combi in combinations(range(n),n//2): \n",
    "        #없는번호들로 리스트만듦\n",
    "        com = [i for i in range(n) if i not in combi]\n",
    "        sum1=0\n",
    "        sum2=0\n",
    "        for i in range(n//2-1):\n",
    "            for j in range(i,n//2):\n",
    "                sum1 += table[combi[i]][combi[j]] + table[combi[j]][combi[i]]\n",
    "                sum2 += table[com[i]][com[j]] + table[com[j]][com[i]]\n",
    "        if answer>abs(sum1-sum2):answer =abs(sum1-sum2)\n",
    "            \n",
    "    print('#{},{}'.format(tc+1,answer))\n",
    "            "
   ]
  },
  {
   "cell_type": "code",
   "execution_count": null,
   "metadata": {},
   "outputs": [],
   "source": [
    "#재귀로 풀기\n"
   ]
  }
 ],
 "metadata": {
  "kernelspec": {
   "display_name": "Python 3",
   "language": "python",
   "name": "python3"
  },
  "language_info": {
   "codemirror_mode": {
    "name": "ipython",
    "version": 3
   },
   "file_extension": ".py",
   "mimetype": "text/x-python",
   "name": "python",
   "nbconvert_exporter": "python",
   "pygments_lexer": "ipython3",
   "version": "3.7.3"
  }
 },
 "nbformat": 4,
 "nbformat_minor": 2
}
