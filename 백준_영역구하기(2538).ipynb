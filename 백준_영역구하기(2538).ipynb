{
 "cells": [
  {
   "cell_type": "code",
   "execution_count": 8,
   "metadata": {},
   "outputs": [
    {
     "name": "stdout",
     "output_type": "stream",
     "text": [
      "5 7 3\n",
      "0 2 4 4 \n",
      "1 1 2 5\n",
      "4 0 6 2\n",
      "3\n",
      "1 7 13 "
     ]
    }
   ],
   "source": [
    "#영역구하기 #bfs\n",
    "#첫째 줄에 분리되어 나누어지는 영역의 개수를 출력한다.\n",
    "#둘째 줄에는 각 영역의 넓이를 오름차순으로 정렬하여 빈칸을 사이에 두고 출력\n",
    "\n",
    "\n",
    "from collections import deque\n",
    "\n",
    "dx = [1,-1,0,0]\n",
    "dy = [0,0,1,-1]\n",
    "\n",
    "def bfs(i,j):\n",
    "    count = 1\n",
    "    q = deque()\n",
    "    q.append((i,j))\n",
    "    graph[i][j] = 1\n",
    "    \n",
    "    while q:\n",
    "        x, y = q.popleft()\n",
    "        for i in range(4):\n",
    "            nx, ny = x+dx[i], y+dy[i]\n",
    "            \n",
    "            if 0<=nx<m and 0<=ny<n:\n",
    "                if graph[nx][ny] == 0:\n",
    "                    graph[nx][ny] = 1\n",
    "                    count += 1\n",
    "                    q.append((nx,ny))\n",
    "                    \n",
    "    return count\n",
    "    \n",
    "\n",
    "#입력\n",
    "m,n,k = map(int,input().split())\n",
    "graph = [[0 for _ in range(n)] for _ in range(m)]\n",
    "for _ in range(k):\n",
    "    x, y, x2, y2 = map(int, input().split())\n",
    "    for i in range(y,y2):\n",
    "        for j in range(x,x2):\n",
    "            graph[i][j] = 1\n",
    "            \n",
    "ans = []\n",
    "for i in range(m):\n",
    "    for j in range(n):\n",
    "        if graph[i][j] == 0:\n",
    "            ans.append(bfs(i,j))\n",
    "\n",
    "#출력\n",
    "print(len(ans))\n",
    "ans.sort()\n",
    "for i in ans:\n",
    "    print(i, end=' ')"
   ]
  },
  {
   "cell_type": "code",
   "execution_count": null,
   "metadata": {},
   "outputs": [],
   "source": [
    "5 7 3\n",
    "0 2 4 4\n",
    "1 1 2 5\n",
    "4 0 6 2"
   ]
  }
 ],
 "metadata": {
  "kernelspec": {
   "display_name": "Python 3",
   "language": "python",
   "name": "python3"
  },
  "language_info": {
   "codemirror_mode": {
    "name": "ipython",
    "version": 3
   },
   "file_extension": ".py",
   "mimetype": "text/x-python",
   "name": "python",
   "nbconvert_exporter": "python",
   "pygments_lexer": "ipython3",
   "version": "3.7.3"
  }
 },
 "nbformat": 4,
 "nbformat_minor": 2
}
