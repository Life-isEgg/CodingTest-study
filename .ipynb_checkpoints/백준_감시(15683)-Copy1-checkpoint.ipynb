{
 "cells": [
  {
   "cell_type": "code",
   "execution_count": null,
   "metadata": {},
   "outputs": [],
   "source": [
    "#1,2,3,4,5의 CCTV방향 설정 필요\n",
    "#모든경우의 수를 구해서 최소 사각지대 크기?\n",
    "#0=빈칸, 6 = 벽\n",
    "\n",
    "\n",
    "\n",
    "dx = [1,-1,0,0]\n",
    "dy = [0,0,1,-1]\n",
    "dirs = \n",
    "\n",
    "n, m = map(int,input().split())\n",
    "mapp = [list(map,input().split()) for _ in range(n)]\n",
    "camera = []\n",
    "min_area = 0\n",
    "\n",
    "for i in range(n):\n",
    "    for j in range(m):\n",
    "        if 1<= mapp[i][j] <= 5:\n",
    "            camera.append((i,j))\n",
    "        elif mapp[i][j] == 0:\n",
    "            min_area += 1\n",
    "            \n",
    "dfs()\n"
   ]
  }
 ],
 "metadata": {
  "kernelspec": {
   "display_name": "Python 3",
   "language": "python",
   "name": "python3"
  },
  "language_info": {
   "codemirror_mode": {
    "name": "ipython",
    "version": 3
   },
   "file_extension": ".py",
   "mimetype": "text/x-python",
   "name": "python",
   "nbconvert_exporter": "python",
   "pygments_lexer": "ipython3",
   "version": "3.7.3"
  }
 },
 "nbformat": 4,
 "nbformat_minor": 2
}
