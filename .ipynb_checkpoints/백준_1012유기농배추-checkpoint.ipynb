{
 "cells": [
  {
   "cell_type": "code",
   "execution_count": 1,
   "metadata": {},
   "outputs": [
    {
     "name": "stdout",
     "output_type": "stream",
     "text": [
      "2\n",
      "10 8 17\n",
      "0 0\n",
      "1 0 \n",
      "1 1\n",
      "4 2\n",
      "4 3\n",
      "4 5\n",
      "2 4\n",
      "3 4\n",
      "7 4\n",
      "8 4\n",
      "9 4\n",
      "7 5\n",
      "8 5\n",
      "9 5\n",
      "7 6\n",
      "8 6\n",
      "9 6\n",
      "5\n",
      "10 10 1\n",
      "5 5\n",
      "1\n"
     ]
    }
   ],
   "source": [
    "#유기농배추\n",
    "\n",
    "from collections import deque\n",
    "\n",
    "dx=[1,-1,0,0]\n",
    "dy=[0,0,1,-1]\n",
    "    \n",
    "def bfs(maps,i,j):\n",
    "    q = deque()\n",
    "    q.append((i,j))\n",
    "   \n",
    "    while q:\n",
    "        x, y = q.popleft()\n",
    "        #visit 리스트를 안만들고 map에서 체크했던 배추는 0으로 바꿔서 중복체크 방지\n",
    "        maps[x][y] =0 \n",
    "        for i in range(4):\n",
    "            nx, ny = x + dx[i], y + dy[i]\n",
    "            #인접한 곳에 배추가 있으면\n",
    "            if 0<=nx<n and 0<=ny<m:\n",
    "                if maps[nx][ny] == 1:\n",
    "                    q.append((nx,ny))\n",
    "                    maps[nx][ny] == 0\n",
    "    #배추 그룹 1개 찾았으므로 return 1            \n",
    "    return 1\n",
    "\n",
    "\n",
    "t = int(input())\n",
    "for _ in range(t):\n",
    "    n,m,k = map(int,input().split())\n",
    "    maps = [[0]*m for _ in range(n)]\n",
    "    count = 0\n",
    "\n",
    "    for _ in range(k):\n",
    "        x,y = map(int, input().split())\n",
    "        maps[x][y] = 1   #map에 배추가 있는 좌표 1로 \n",
    "\n",
    "    for i in range(n):\n",
    "        for j in range(m):\n",
    "            if maps[i][j] == 1:  #배추가 있으면 bfs함수를 실행\n",
    "                count += bfs(maps,i,j)\n",
    "                \n",
    "    print(count)"
   ]
  },
  {
   "cell_type": "code",
   "execution_count": null,
   "metadata": {},
   "outputs": [],
   "source": []
  }
 ],
 "metadata": {
  "kernelspec": {
   "display_name": "Python 3",
   "language": "python",
   "name": "python3"
  },
  "language_info": {
   "codemirror_mode": {
    "name": "ipython",
    "version": 3
   },
   "file_extension": ".py",
   "mimetype": "text/x-python",
   "name": "python",
   "nbconvert_exporter": "python",
   "pygments_lexer": "ipython3",
   "version": "3.7.3"
  }
 },
 "nbformat": 4,
 "nbformat_minor": 2
}
