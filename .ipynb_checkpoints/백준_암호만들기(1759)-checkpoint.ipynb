{
 "cells": [
  {
   "cell_type": "code",
   "execution_count": 1,
   "metadata": {},
   "outputs": [
    {
     "data": {
      "text/plain": [
       "97"
      ]
     },
     "execution_count": 1,
     "metadata": {},
     "output_type": "execute_result"
    }
   ],
   "source": [
    "ord('a')"
   ]
  },
  {
   "cell_type": "code",
   "execution_count": 4,
   "metadata": {},
   "outputs": [
    {
     "data": {
      "text/plain": [
       "122"
      ]
     },
     "execution_count": 4,
     "metadata": {},
     "output_type": "execute_result"
    }
   ],
   "source": [
    "ord('z')"
   ]
  },
  {
   "cell_type": "code",
   "execution_count": 27,
   "metadata": {},
   "outputs": [
    {
     "name": "stdout",
     "output_type": "stream",
     "text": [
      "4 6\n",
      "a t c i s w\n",
      "acis\n",
      "acit\n",
      "aciw\n",
      "acst\n",
      "acsw\n",
      "actw\n",
      "aist\n",
      "aisw\n",
      "aitw\n",
      "astw\n",
      "cist\n",
      "cisw\n",
      "citw\n",
      "istw\n"
     ]
    }
   ],
   "source": [
    "#암호만들기\n",
    "#암호에는 한개의 모음과 두개의 자음, 중복없음\n",
    "\n",
    "from itertools import combinations\n",
    "\n",
    "l,c = map(int,input().split())\n",
    "string = list(input().split())\n",
    "string.sort()\n",
    "combi = list(combinations(string,l))\n",
    "\n",
    "for com in combi:\n",
    "    numv = 0 #모음개수\n",
    "    numc = 0 #자음개수\n",
    "    for cc in com:\n",
    "        if cc in \"aeiou\":\n",
    "            numv += 1\n",
    "        else:\n",
    "            numc += 1\n",
    "    if numv >= 1 and numc >= 2:\n",
    "        print(\"\".join(com))\n",
    "    "
   ]
  },
  {
   "cell_type": "code",
   "execution_count": 25,
   "metadata": {},
   "outputs": [
    {
     "data": {
      "text/plain": [
       "[('a', 'c', 'i', 's'),\n",
       " ('a', 'c', 'i', 't'),\n",
       " ('a', 'c', 'i', 'w'),\n",
       " ('a', 'c', 's', 't'),\n",
       " ('a', 'c', 's', 'w'),\n",
       " ('a', 'c', 't', 'w'),\n",
       " ('a', 'i', 's', 't'),\n",
       " ('a', 'i', 's', 'w'),\n",
       " ('a', 'i', 't', 'w'),\n",
       " ('a', 's', 't', 'w'),\n",
       " ('c', 'i', 's', 't'),\n",
       " ('c', 'i', 's', 'w'),\n",
       " ('c', 'i', 't', 'w'),\n",
       " ('c', 's', 't', 'w'),\n",
       " ('i', 's', 't', 'w')]"
      ]
     },
     "execution_count": 25,
     "metadata": {},
     "output_type": "execute_result"
    }
   ],
   "source": [
    "combi"
   ]
  },
  {
   "cell_type": "code",
   "execution_count": null,
   "metadata": {},
   "outputs": [],
   "source": []
  }
 ],
 "metadata": {
  "kernelspec": {
   "display_name": "Python 3",
   "language": "python",
   "name": "python3"
  },
  "language_info": {
   "codemirror_mode": {
    "name": "ipython",
    "version": 3
   },
   "file_extension": ".py",
   "mimetype": "text/x-python",
   "name": "python",
   "nbconvert_exporter": "python",
   "pygments_lexer": "ipython3",
   "version": "3.7.3"
  }
 },
 "nbformat": 4,
 "nbformat_minor": 2
}
