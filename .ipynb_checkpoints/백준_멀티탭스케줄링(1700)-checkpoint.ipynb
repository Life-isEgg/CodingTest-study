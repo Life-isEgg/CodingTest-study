{
 "cells": [
  {
   "cell_type": "code",
   "execution_count": 9,
   "metadata": {},
   "outputs": [
    {
     "name": "stdout",
     "output_type": "stream",
     "text": [
      "2 7\n",
      "2 3 2 3 1 2 7\n"
     ]
    },
    {
     "data": {
      "text/plain": [
       "2"
      ]
     },
     "execution_count": 9,
     "metadata": {},
     "output_type": "execute_result"
    }
   ],
   "source": [
    "n, k = map(int,input().split())\n",
    "product = list(map(int,input().split()))\n",
    "plug = []\n",
    "count = 0\n",
    "\n",
    "#멀티탭이 비었음 -> 꽂기\n",
    "#멀티탭에 이미 꽂혀있음 -> pass\n",
    "#멀티탭이 꽉차고 이후에도 안쓰는 용품 -> 뽑고 새로운 용품 꽂기\n",
    "#멀티탭에 꽉찼는데 나중에도 쓰는경우 -> 비교해서 나중에 사용하는 거 뽑기\n",
    "\n",
    "for i in range(k):\n",
    "    if product[i] in plug:\n",
    "        continue\n",
    "    if len(plug) < n:\n",
    "        plug.append(product[i])\n",
    "        continue\n",
    "    \n",
    "    #순서확인용\n",
    "    order = []\n",
    "    for j in range(n):\n",
    "        if plug[j] in product[i:]:\n",
    "            order.append(product[i:].index(plug[j]))\n",
    "        else:\n",
    "            order.append(100)\n",
    "        \n",
    "    del plug[order.index(max(order))]\n",
    "    plug.append(product[i])\n",
    "    count += 1\n",
    "    \n",
    "count"
   ]
  },
  {
   "cell_type": "code",
   "execution_count": 11,
   "metadata": {},
   "outputs": [
    {
     "name": "stdout",
     "output_type": "stream",
     "text": [
      "[1, 7]\n",
      "[2, 3, 2, 3, 1, 2, 7]\n",
      "[100, 100]\n"
     ]
    }
   ],
   "source": [
    "print(plug)\n",
    "print(product)\n",
    "print(order)"
   ]
  }
 ],
 "metadata": {
  "kernelspec": {
   "display_name": "Python 3",
   "language": "python",
   "name": "python3"
  },
  "language_info": {
   "codemirror_mode": {
    "name": "ipython",
    "version": 3
   },
   "file_extension": ".py",
   "mimetype": "text/x-python",
   "name": "python",
   "nbconvert_exporter": "python",
   "pygments_lexer": "ipython3",
   "version": "3.7.3"
  }
 },
 "nbformat": 4,
 "nbformat_minor": 2
}
