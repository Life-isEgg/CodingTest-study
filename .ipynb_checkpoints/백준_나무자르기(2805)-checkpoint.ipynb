{
 "cells": [
  {
   "cell_type": "code",
   "execution_count": 16,
   "metadata": {},
   "outputs": [
    {
     "name": "stdout",
     "output_type": "stream",
     "text": [
      "4 7\n",
      "20 15 10 17\n",
      "15\n"
     ]
    }
   ],
   "source": [
    "n, m = map(int,input().split())\n",
    "namu = list(map(int,input().split()))\n",
    "\n",
    "namu.sort()\n",
    "left = 1\n",
    "right = max(namu)\n",
    "result = 0\n",
    "\n",
    "while left <= right:\n",
    "    mid = (left+right)//2\n",
    "    cut_sum = 0 \n",
    "    for na in namu:\n",
    "        if mid <= na:\n",
    "            cut_sum += na-mid\n",
    "    if cut_sum >= m:\n",
    "        result = mid\n",
    "        left = mid+1\n",
    "    else:\n",
    "        right = mid-1\n",
    "    \n",
    "print(result)"
   ]
  },
  {
   "cell_type": "code",
   "execution_count": null,
   "metadata": {},
   "outputs": [],
   "source": []
  }
 ],
 "metadata": {
  "kernelspec": {
   "display_name": "Python 3",
   "language": "python",
   "name": "python3"
  },
  "language_info": {
   "codemirror_mode": {
    "name": "ipython",
    "version": 3
   },
   "file_extension": ".py",
   "mimetype": "text/x-python",
   "name": "python",
   "nbconvert_exporter": "python",
   "pygments_lexer": "ipython3",
   "version": "3.7.3"
  }
 },
 "nbformat": 4,
 "nbformat_minor": 2
}
