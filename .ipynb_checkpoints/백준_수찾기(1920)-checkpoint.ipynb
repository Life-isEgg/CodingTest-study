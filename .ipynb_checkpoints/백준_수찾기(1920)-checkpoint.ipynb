{
 "cells": [
  {
   "cell_type": "code",
   "execution_count": 23,
   "metadata": {},
   "outputs": [
    {
     "name": "stdout",
     "output_type": "stream",
     "text": [
      "5\n",
      "4 1 5 2 3\n",
      "5 \n",
      "1 3 7 9 5\n",
      "1\n",
      "1\n",
      "0\n",
      "0\n",
      "1\n"
     ]
    }
   ],
   "source": [
    "def binary(arr,find):\n",
    "    start = 0\n",
    "    end = len(arr)-1\n",
    "    \n",
    "    while start<=end:\n",
    "        mid = (start+end)//2\n",
    "        if find == A[mid]:\n",
    "            return 1\n",
    "        elif find > A[mid]:\n",
    "            start = mid +1\n",
    "        else:\n",
    "            end = mid-1\n",
    "    return 0\n",
    "            \n",
    "\n",
    "N = int(input())\n",
    "A = list(map(int,input().split()))\n",
    "M = int(input())\n",
    "m = list(map(int,input().split()))\n",
    "\n",
    "A.sort()\n",
    "\n",
    "for mm in m:\n",
    "    print(binary(A,mm))"
   ]
  },
  {
   "cell_type": "code",
   "execution_count": null,
   "metadata": {},
   "outputs": [],
   "source": []
  }
 ],
 "metadata": {
  "kernelspec": {
   "display_name": "Python 3",
   "language": "python",
   "name": "python3"
  },
  "language_info": {
   "codemirror_mode": {
    "name": "ipython",
    "version": 3
   },
   "file_extension": ".py",
   "mimetype": "text/x-python",
   "name": "python",
   "nbconvert_exporter": "python",
   "pygments_lexer": "ipython3",
   "version": "3.7.3"
  }
 },
 "nbformat": 4,
 "nbformat_minor": 2
}
