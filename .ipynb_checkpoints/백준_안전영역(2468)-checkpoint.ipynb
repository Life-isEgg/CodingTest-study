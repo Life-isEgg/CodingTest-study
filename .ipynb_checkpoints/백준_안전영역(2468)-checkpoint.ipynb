{
 "cells": [
  {
   "cell_type": "code",
   "execution_count": 13,
   "metadata": {},
   "outputs": [
    {
     "name": "stdout",
     "output_type": "stream",
     "text": [
      "5\n",
      "6 8 2 6 2\n",
      "3 2 3 4 6\n",
      "6 7 3 3 2\n",
      "7 2 5 3 6\n",
      "8 9 5 2 7\n",
      "5\n"
     ]
    }
   ],
   "source": [
    "n = int(input())\n",
    "mapp = [list(map(int,input().split())) for _ in range(n)]\n",
    "\n",
    "dx = [1,-1,0,0]\n",
    "dy = [0,0,1,-1]\n",
    "answer = []\n",
    "\n",
    "def dfs(x,y,h):\n",
    "    for i in range(4):\n",
    "        nx, ny = x+dx[i], y+dy[i]\n",
    "        \n",
    "        if 0<=nx<n and 0<=ny<n and not visit[nx][ny] and mapp[nx][ny] > h:\n",
    "            visit[nx][ny]=1\n",
    "            dfs(nx,ny,h)\n",
    "\n",
    "\n",
    "maxx = max(map(max,mapp))\n",
    "safe = 0\n",
    "\n",
    "for k in range(maxx):\n",
    "    visit = [[False]*n for _ in range(n)]\n",
    "    safe = 0\n",
    "    \n",
    "    for i in range(n):\n",
    "        for j in range(n):\n",
    "            if mapp[i][j] > k and not visit[i][j]:\n",
    "                safe += 1\n",
    "                visit[i][j] = 1\n",
    "                dfs(i,j,k)\n",
    "    answer.append(safe)\n",
    "print(max(answer))"
   ]
  },
  {
   "cell_type": "code",
   "execution_count": null,
   "metadata": {},
   "outputs": [],
   "source": []
  }
 ],
 "metadata": {
  "kernelspec": {
   "display_name": "Python 3",
   "language": "python",
   "name": "python3"
  },
  "language_info": {
   "codemirror_mode": {
    "name": "ipython",
    "version": 3
   },
   "file_extension": ".py",
   "mimetype": "text/x-python",
   "name": "python",
   "nbconvert_exporter": "python",
   "pygments_lexer": "ipython3",
   "version": "3.7.3"
  }
 },
 "nbformat": 4,
 "nbformat_minor": 2
}
