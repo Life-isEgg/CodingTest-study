{
 "cells": [
  {
   "cell_type": "code",
   "execution_count": 1,
   "metadata": {},
   "outputs": [
    {
     "name": "stdout",
     "output_type": "stream",
     "text": [
      "4 11\n",
      "802\n",
      "743\n",
      "457\n",
      "539\n",
      "200\n"
     ]
    },
    {
     "data": {
      "text/plain": [
       "200"
      ]
     },
     "execution_count": 1,
     "metadata": {},
     "output_type": "execute_result"
    }
   ],
   "source": [
    "k,n = map(int,input().split())\n",
    "a = [ int(input()) for _ in range(k)]\n",
    "\n",
    "a.sort()\n",
    "left = 1\n",
    "right = max(a)\n",
    "result = 0\n",
    "\n",
    "while left<=right:\n",
    "    mid = (left+right)//2\n",
    "    cut = []\n",
    "    for i in a:\n",
    "        cut.append(i//mid)\n",
    "    cut_sum = sum(cut)\n",
    "    \n",
    "    if cut_sum >= n:\n",
    "        result = mid\n",
    "        left = mid+1\n",
    "        print(result)\n",
    "    elif cut_sum < n:\n",
    "        right = mid-1\n",
    "        \n",
    "result\n"
   ]
  },
  {
   "cell_type": "code",
   "execution_count": 3,
   "metadata": {},
   "outputs": [
    {
     "data": {
      "text/plain": [
       "201"
      ]
     },
     "execution_count": 3,
     "metadata": {},
     "output_type": "execute_result"
    }
   ],
   "source": [
    "left"
   ]
  },
  {
   "cell_type": "code",
   "execution_count": null,
   "metadata": {},
   "outputs": [],
   "source": []
  }
 ],
 "metadata": {
  "kernelspec": {
   "display_name": "Python 3",
   "language": "python",
   "name": "python3"
  },
  "language_info": {
   "codemirror_mode": {
    "name": "ipython",
    "version": 3
   },
   "file_extension": ".py",
   "mimetype": "text/x-python",
   "name": "python",
   "nbconvert_exporter": "python",
   "pygments_lexer": "ipython3",
   "version": "3.7.3"
  }
 },
 "nbformat": 4,
 "nbformat_minor": 2
}
