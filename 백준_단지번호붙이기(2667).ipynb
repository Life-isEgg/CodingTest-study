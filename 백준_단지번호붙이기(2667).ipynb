{
 "cells": [
  {
   "cell_type": "code",
   "execution_count": 4,
   "metadata": {},
   "outputs": [
    {
     "name": "stdout",
     "output_type": "stream",
     "text": [
      "7\n",
      "0110100\n",
      "0110101\n",
      "1110101\n",
      "0000111\n",
      "0100000\n",
      "0111110\n",
      "0111000\n",
      "3\n",
      "7\n",
      "8\n",
      "9\n"
     ]
    }
   ],
   "source": [
    "#단지번호붙이기 #bfs\n",
    "#첫 번째 줄에는 총 단지수를 출력하시오.\n",
    "#그리고 각 단지내 집의 수를 오름차순으로 정렬하여 한 줄에 하나씩 출력하시오.\n",
    "\n",
    "from collections import deque\n",
    "\n",
    "dx = [1,-1,0,0]\n",
    "dy = [0,0,1,-1]\n",
    "\n",
    "def bfs(i,j):\n",
    "    count = 1\n",
    "    q = deque()\n",
    "    q.append((i,j))\n",
    "    mapp[i][j] = 0\n",
    "    \n",
    "    while q:\n",
    "        x, y = q.popleft()\n",
    "        for i in range(4):\n",
    "            nx, ny = x+dx[i], y+dy[i]\n",
    "            \n",
    "            if 0<=nx<n and 0<=ny<n:\n",
    "                if mapp[nx][ny] == 1:\n",
    "                    count += 1\n",
    "                    mapp[nx][ny] = 0\n",
    "                    q.append((nx,ny))\n",
    "    return count\n",
    "    \n",
    "\n",
    "#입력\n",
    "n = int(input())\n",
    "mapp = []\n",
    "for _ in range(n):\n",
    "    mapp.append(list(map(int,input())))\n",
    "    \n",
    "ans = []\n",
    "for i in range(n):\n",
    "    for j in range(n):\n",
    "        if mapp[i][j] == 1:\n",
    "            ans.append(bfs(i,j))\n",
    "        \n",
    "#출력\n",
    "print(len(ans))\n",
    "for i in sorted(ans):\n",
    "    print(i)"
   ]
  },
  {
   "cell_type": "code",
   "execution_count": null,
   "metadata": {},
   "outputs": [],
   "source": []
  }
 ],
 "metadata": {
  "kernelspec": {
   "display_name": "Python 3",
   "language": "python",
   "name": "python3"
  },
  "language_info": {
   "codemirror_mode": {
    "name": "ipython",
    "version": 3
   },
   "file_extension": ".py",
   "mimetype": "text/x-python",
   "name": "python",
   "nbconvert_exporter": "python",
   "pygments_lexer": "ipython3",
   "version": "3.7.3"
  }
 },
 "nbformat": 4,
 "nbformat_minor": 2
}
