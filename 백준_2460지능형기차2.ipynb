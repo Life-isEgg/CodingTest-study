{
 "cells": [
  {
   "cell_type": "code",
   "execution_count": 1,
   "metadata": {},
   "outputs": [
    {
     "name": "stdout",
     "output_type": "stream",
     "text": [
      "0 32\n",
      "3 13\n",
      "28 25\n",
      "17 5\n",
      "21 20\n",
      "11 0\n",
      "12 12\n",
      "4 2\n",
      "0 8\n",
      "21 0\n",
      "42\n"
     ]
    }
   ],
   "source": [
    "#지능형기차2\n",
    "\n",
    "train = [0]*10\n",
    "\n",
    "for i in range(10):\n",
    "    a, b = map(int,input().split())\n",
    "    train[i] = -a +b\n",
    "for i in range(1,10):\n",
    "    train[i] = train[i-1] + train[i]\n",
    "print(max(train))"
   ]
  },
  {
   "cell_type": "code",
   "execution_count": null,
   "metadata": {},
   "outputs": [],
   "source": []
  }
 ],
 "metadata": {
  "kernelspec": {
   "display_name": "Python 3",
   "language": "python",
   "name": "python3"
  },
  "language_info": {
   "codemirror_mode": {
    "name": "ipython",
    "version": 3
   },
   "file_extension": ".py",
   "mimetype": "text/x-python",
   "name": "python",
   "nbconvert_exporter": "python",
   "pygments_lexer": "ipython3",
   "version": "3.7.3"
  }
 },
 "nbformat": 4,
 "nbformat_minor": 2
}
