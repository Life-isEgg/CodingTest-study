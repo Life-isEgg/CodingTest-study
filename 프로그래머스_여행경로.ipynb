{
 "cells": [
  {
   "cell_type": "code",
   "execution_count": 7,
   "metadata": {},
   "outputs": [
    {
     "name": "stdout",
     "output_type": "stream",
     "text": [
      "{'SFO': ['ATL'], 'ICN': ['SFO', 'ATL'], 'ATL': ['SFO', 'ICN']}\n",
      "['ICN', 'ATL', 'ICN', 'SFO', 'ATL', 'SFO']\n"
     ]
    }
   ],
   "source": [
    "tickets = [[\"ICN\", \"SFO\"], [\"ICN\", \"ATL\"], [\"SFO\", \"ATL\"], [\"ATL\", \"ICN\"], [\"ATL\",\"SFO\"]]\n",
    "\n",
    "tickets.sort(reverse = True)\n",
    "\n",
    "route = dict()\n",
    "\n",
    "for start, end in tickets:\n",
    "    if start in route:\n",
    "        route[start].append(end)\n",
    "    else:\n",
    "        route[start] = [end]\n",
    "print(route)\n",
    "stack = ['ICN']\n",
    "answer = []\n",
    "\n",
    "while stack:\n",
    "    top = stack[-1]\n",
    "    \n",
    "    if len(route[top]) == 0:\n",
    "        answer.append(stack.pop())\n",
    "    else:\n",
    "        stack.append(route[top].pop())\n",
    "        \n",
    "print(answer[::-1])"
   ]
  },
  {
   "cell_type": "code",
   "execution_count": null,
   "metadata": {},
   "outputs": [],
   "source": []
  }
 ],
 "metadata": {
  "kernelspec": {
   "display_name": "Python 3",
   "language": "python",
   "name": "python3"
  },
  "language_info": {
   "codemirror_mode": {
    "name": "ipython",
    "version": 3
   },
   "file_extension": ".py",
   "mimetype": "text/x-python",
   "name": "python",
   "nbconvert_exporter": "python",
   "pygments_lexer": "ipython3",
   "version": "3.7.3"
  }
 },
 "nbformat": 4,
 "nbformat_minor": 2
}
