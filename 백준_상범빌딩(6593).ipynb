{
 "cells": [
  {
   "cell_type": "code",
   "execution_count": null,
   "metadata": {},
   "outputs": [
    {
     "name": "stdout",
     "output_type": "stream",
     "text": [
      "3 4 5\n",
      "S . . . .\n",
      ". # # # .\n",
      ". # # . .\n",
      "# # # . #\n",
      "\n",
      "# # # # #\n",
      "# # # # #\n",
      "# # . # #\n",
      "# # . . .\n",
      "\n",
      "# # # # #\n",
      "# # # # #\n",
      "# . # # #\n",
      "# # # # E\n",
      "\n",
      "Escaped in 0 minute(s).\n"
     ]
    }
   ],
   "source": [
    "#탈출하는 가장 빠른길 -> 최단거리! bfs\n",
    "#동서남북상하 -> 삼차원\n",
    "\n",
    "from collections import deque\n",
    "\n",
    "dx = [1,-1,0,0,0,0]\n",
    "dy = [0,0,1,-1,0,0]\n",
    "dz = [0,0,0,0,1,-1]\n",
    "\n",
    "\n",
    "def bfs(i,j,k):\n",
    "    q = deque([(i,j,k)])\n",
    "    dist[i][j][k] = 1\n",
    "    \n",
    "    while q:\n",
    "        x,y,z = q.popleft()\n",
    "        for i in range(6):\n",
    "            nx, ny, nz = x+dx[i], y+dy[i], z+dz[i]\n",
    "            \n",
    "            if 0<=nx<L and 0<=ny<R and 0<=nz<C:\n",
    "                if building[nx][ny][nz] == 'E':\n",
    "                    print(\"Escaped in {0} minute(s).\".format(dist[nx][ny][nz]))\n",
    "                    return\n",
    "                if building[nx][ny][nz] == '.' and dist[nx][ny][nz] == 0:\n",
    "                    dist[nx][ny][nz] = dist[x][y][z]+1\n",
    "                    q.append([nx,ny,nz])\n",
    "    print(\"Trapped!\")\n",
    "\n",
    "\n",
    "\n",
    "while True:\n",
    "    L, R, C = map(int, input().split())\n",
    "    \n",
    "    if L==0 and R==0 and C==0:\n",
    "        break\n",
    "        \n",
    "    building = [[[]*C for _ in range(R)] for _ in range(L)]\n",
    "    dist = [[[0]*C for _ in range(R)] for _ in range(L)]\n",
    "    \n",
    "    for i in range(L):\n",
    "        building[i] = [list(input().split()) for _ in range(R)]\n",
    "        input() #빈줄\n",
    "    \n",
    "    for i in range(L):\n",
    "        for j in range(R):\n",
    "            for k in range(C):\n",
    "                if building[i][j][k] == 'S':\n",
    "                    bfs(i,j,k)\n"
   ]
  },
  {
   "cell_type": "code",
   "execution_count": null,
   "metadata": {},
   "outputs": [],
   "source": []
  }
 ],
 "metadata": {
  "kernelspec": {
   "display_name": "Python 3",
   "language": "python",
   "name": "python3"
  },
  "language_info": {
   "codemirror_mode": {
    "name": "ipython",
    "version": 3
   },
   "file_extension": ".py",
   "mimetype": "text/x-python",
   "name": "python",
   "nbconvert_exporter": "python",
   "pygments_lexer": "ipython3",
   "version": "3.7.3"
  }
 },
 "nbformat": 4,
 "nbformat_minor": 2
}
