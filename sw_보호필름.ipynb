{
 "cells": [
  {
   "cell_type": "code",
   "execution_count": null,
   "metadata": {},
   "outputs": [],
   "source": []
  },
  {
   "cell_type": "code",
   "execution_count": null,
   "metadata": {},
   "outputs": [],
   "source": [
    "#보호필름\n",
    "\n",
    "    \n",
    "def check(): #성능검사\n",
    "    \n",
    "    for i in range(w):\n",
    "        flag = False\n",
    "        count = 1\n",
    "        for j in range(d-1):\n",
    "            if film[j][i] == film[j+1][i]:\n",
    "                count += 1\n",
    "            else:\n",
    "                count = 1\n",
    "            if count == k:\n",
    "                flag = True\n",
    "        if not flag:\n",
    "            return False\n",
    "                \n",
    "    return True\n",
    "\n",
    "\n",
    "t = int(input())\n",
    "for tc in range(t):\n",
    "    d,w,k = map(int, input().split())\n",
    "    film = [list(map(int,input().split)) for _ in range(d)]\n",
    "    \n",
    "    if k == 1:\n",
    "        print('#{}'.format(tc),\"0\")\n",
    "    else:\n",
    "        print('#{} {}'.format(tc, check_func()))\n"
   ]
  },
  {
   "cell_type": "code",
   "execution_count": 6,
   "metadata": {},
   "outputs": [
    {
     "name": "stdout",
     "output_type": "stream",
     "text": [
      "5 0\n"
     ]
    }
   ],
   "source": []
  },
  {
   "cell_type": "code",
   "execution_count": null,
   "metadata": {},
   "outputs": [],
   "source": []
  }
 ],
 "metadata": {
  "kernelspec": {
   "display_name": "Python 3",
   "language": "python",
   "name": "python3"
  }
 },
 "nbformat": 4,
 "nbformat_minor": 2
}
