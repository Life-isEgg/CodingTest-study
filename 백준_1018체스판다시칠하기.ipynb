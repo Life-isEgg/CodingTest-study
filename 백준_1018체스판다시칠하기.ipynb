{
 "cells": [
  {
   "cell_type": "code",
   "execution_count": 19,
   "metadata": {},
   "outputs": [
    {
     "name": "stdout",
     "output_type": "stream",
     "text": [
      "10 13\n",
      "BBBBBBBBWBWBW\n",
      "BBBBBBBBBWBWB\n",
      "BBBBBBBBWBWBW\n",
      "BBBBBBBBBWBWB\n",
      "BBBBBBBBWBWBW\n",
      "BBBBBBBBBWBWB\n",
      "BBBBBBBBWBWBW\n",
      "BBBBBBBBBWBWB\n",
      "WWWWWWWWWWBWB\n",
      "WWWWWWWWWWBWB\n",
      "12\n"
     ]
    }
   ],
   "source": [
    "n, m = map(int, input().split())\n",
    "board = [input() for _ in range(n)]\n",
    "result = []\n",
    "ans = 64\n",
    "for r in range(n-7):\n",
    "    for c in range(m-7):\n",
    "        b_cnt = 0\n",
    "        w_cnt = 0\n",
    "        for i in range(r,r+8):\n",
    "            for j in range(c,c+8):\n",
    "                if(i+j)%2 == 0:\n",
    "                    if board[i][j] != 'W': w_cnt +=1\n",
    "                    if board[i][j] != 'B': b_cnt +=1\n",
    "                else:\n",
    "                    if board[i][j] != 'B': w_cnt +=1\n",
    "                    if board[i][j] != 'W': b_cnt +=1\n",
    "        result.append(w_cnt)\n",
    "        result.append(b_cnt)\n",
    "        \n",
    "print(min(result))"
   ]
  },
  {
   "cell_type": "code",
   "execution_count": 20,
   "metadata": {},
   "outputs": [
    {
     "data": {
      "text/plain": [
       "17"
      ]
     },
     "execution_count": 20,
     "metadata": {},
     "output_type": "execute_result"
    }
   ],
   "source": [
    "w_cnt"
   ]
  },
  {
   "cell_type": "code",
   "execution_count": null,
   "metadata": {},
   "outputs": [],
   "source": []
  }
 ],
 "metadata": {
  "kernelspec": {
   "display_name": "Python 3",
   "language": "python",
   "name": "python3"
  },
  "language_info": {
   "codemirror_mode": {
    "name": "ipython",
    "version": 3
   },
   "file_extension": ".py",
   "mimetype": "text/x-python",
   "name": "python",
   "nbconvert_exporter": "python",
   "pygments_lexer": "ipython3",
   "version": "3.7.3"
  }
 },
 "nbformat": 4,
 "nbformat_minor": 2
}
