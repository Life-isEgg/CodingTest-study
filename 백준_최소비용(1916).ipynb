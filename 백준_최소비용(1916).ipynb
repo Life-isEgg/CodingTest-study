{
 "cells": [
  {
   "cell_type": "code",
   "execution_count": 7,
   "metadata": {},
   "outputs": [
    {
     "name": "stdout",
     "output_type": "stream",
     "text": [
      "5\n",
      "8\n",
      "1 2 2\n",
      "1 3 3\n",
      "1 4 1\n",
      "1 5 10\n",
      "2 4 2\n",
      "3 4 1\n",
      "3 5 1\n",
      "4 5 3\n",
      "1 5\n",
      "4\n"
     ]
    }
   ],
   "source": [
    "#다익스트라\n",
    "\n",
    "import heapq\n",
    "\n",
    "n = int(input())\n",
    "m = int(input())\n",
    "graph = [[] for _ in range(n+1)]\n",
    "\n",
    "for _ in range(m):\n",
    "    a,b,w = map(int, input().split())\n",
    "    graph[a].append([b,w])\n",
    "start, end = map(int,input().split())\n",
    "\n",
    "dist = [float('inf')] * (n+1)\n",
    "\n",
    "def daijk(start):\n",
    "    dist[start] = 0\n",
    "    hq = []\n",
    "    heapq.heappush(hq, [0,start])\n",
    "    \n",
    "    while hq:\n",
    "        dis, node = heapq.heappop(hq)\n",
    "        for nnode, weight in graph[node]:\n",
    "            mincost = dis + weight\n",
    "            if mincost < dist[nnode]:\n",
    "                dist[nnode] = mincost\n",
    "                heapq.heappush(hq,[mincost, nnode])\n",
    "daijk(start)\n",
    "print(dist[end])\n",
    "        \n",
    "    "
   ]
  },
  {
   "cell_type": "code",
   "execution_count": 8,
   "metadata": {},
   "outputs": [
    {
     "data": {
      "text/plain": [
       "[inf, 0, 2, 3, 1, 4]"
      ]
     },
     "execution_count": 8,
     "metadata": {},
     "output_type": "execute_result"
    }
   ],
   "source": [
    "dist"
   ]
  },
  {
   "cell_type": "code",
   "execution_count": null,
   "metadata": {},
   "outputs": [],
   "source": []
  }
 ],
 "metadata": {
  "kernelspec": {
   "display_name": "Python 3",
   "language": "python",
   "name": "python3"
  },
  "language_info": {
   "codemirror_mode": {
    "name": "ipython",
    "version": 3
   },
   "file_extension": ".py",
   "mimetype": "text/x-python",
   "name": "python",
   "nbconvert_exporter": "python",
   "pygments_lexer": "ipython3",
   "version": "3.7.3"
  }
 },
 "nbformat": 4,
 "nbformat_minor": 2
}
