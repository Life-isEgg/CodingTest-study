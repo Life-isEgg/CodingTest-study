{
 "cells": [
  {
   "cell_type": "code",
   "execution_count": 9,
   "metadata": {},
   "outputs": [],
   "source": [
    "#각 번호선수마다 이긴 사람 + 진 사람 = n-1\n",
    "\n",
    "n = 5\n",
    "battle = [[4,3],[4,2],[3,2],[1,2],[2,5]]\n",
    "\n",
    "result = [[0]*(n+1) for _ in range(n+1)]\n",
    "\n",
    "for win, lose in battle:\n",
    "    result[win][lose] = 1\n",
    "    result[lose][win] = -1\n",
    "    "
   ]
  },
  {
   "cell_type": "code",
   "execution_count": 10,
   "metadata": {},
   "outputs": [
    {
     "data": {
      "text/plain": [
       "[[0, 0, 0, 0, 0, 0],\n",
       " [0, 0, 1, 0, 0, 0],\n",
       " [0, -1, 0, -1, -1, 1],\n",
       " [0, 0, 1, 0, -1, 0],\n",
       " [0, 0, 1, 1, 0, 0],\n",
       " [0, 0, -1, 0, 0, 0]]"
      ]
     },
     "execution_count": 10,
     "metadata": {},
     "output_type": "execute_result"
    }
   ],
   "source": [
    "result"
   ]
  },
  {
   "cell_type": "code",
   "execution_count": 16,
   "metadata": {},
   "outputs": [
    {
     "name": "stdout",
     "output_type": "stream",
     "text": [
      "[2, 5, 2, 2, 3]\n"
     ]
    }
   ],
   "source": [
    "winner=[]\n",
    "for i in range(1,n+1):\n",
    "    for idx, res in enumerate(result[i]):\n",
    "        if res == 1:\n",
    "            winner.append(idx) \n",
    "print(winner)"
   ]
  },
  {
   "cell_type": "code",
   "execution_count": 20,
   "metadata": {},
   "outputs": [
    {
     "name": "stdout",
     "output_type": "stream",
     "text": [
      "defaultdict(<class 'set'>, {4: {2, 3, 5}, 3: {2, 5}, 1: {2, 5}, 2: {5}, 5: set()}) defaultdict(<class 'set'>, {3: {4}, 2: {1, 3, 4}, 5: {1, 2, 3, 4}, 1: set(), 4: set()})\n",
      "2\n"
     ]
    }
   ],
   "source": [
    "from collections import defaultdict\n",
    "answer = 0\n",
    "wins = defaultdict(set)\n",
    "loses = defaultdict(set)\n",
    "\n",
    "for a, b in results:\n",
    "    wins[a].add(b)\n",
    "    loses[b].add(a)\n",
    "    \n",
    "for i in range(1, n+1):\n",
    "    for loser in wins[i]:\n",
    "        loses[loser] |= loses[i]\n",
    "    for winner in loses[i]:\n",
    "        wins[winner] |= wins[i]\n",
    "\n",
    "print(wins, loses)\n",
    "        \n",
    "for i in range(1, n+1):\n",
    "    if len(wins[i]) + len(loses[i]) == n - 1:\n",
    "        answer += 1\n",
    "print(answer)"
   ]
  }
 ],
 "metadata": {
  "kernelspec": {
   "display_name": "Python 3",
   "language": "python",
   "name": "python3"
  },
  "language_info": {
   "codemirror_mode": {
    "name": "ipython",
    "version": 3
   },
   "file_extension": ".py",
   "mimetype": "text/x-python",
   "name": "python",
   "nbconvert_exporter": "python",
   "pygments_lexer": "ipython3",
   "version": "3.7.3"
  }
 },
 "nbformat": 4,
 "nbformat_minor": 2
}
