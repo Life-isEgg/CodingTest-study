{
 "cells": [
  {
   "cell_type": "code",
   "execution_count": 11,
   "metadata": {},
   "outputs": [
    {
     "name": "stdout",
     "output_type": "stream",
     "text": [
      "6 6\n",
      "..S...\n",
      "..S.W.\n",
      ".S....\n",
      "..W...\n",
      "...W..\n",
      "......\n",
      "1\n",
      "DDSDDD\n",
      "DDSDWD\n",
      "DSDDDD\n",
      "DDWDDD\n",
      "DDDWDD\n",
      "DDDDDD\n"
     ]
    }
   ],
   "source": [
    "r,c = map(int,input().split())\n",
    "mokjang = [ list(input())  for _ in range(r)]\n",
    "\n",
    "dx = [1,-1,0,0]\n",
    "dy = [0,0,1,-1]\n",
    "\n",
    "check = False\n",
    "\n",
    "for i in range(r):\n",
    "    for j in range(c):\n",
    "        if mokjang[i][j] == 'W':\n",
    "            for k in range(4):\n",
    "                nx, ny = i + dx[k], j+dy[k]\n",
    "                if nx < 0 or nx == r or ny < 0 or ny == c: \n",
    "                    continue\n",
    "                if mokjang[nx][ny] == 'S':\n",
    "                    check = True\n",
    "        elif mokjang[i][j] == 'S':\n",
    "            continue\n",
    "        else:\n",
    "            mokjang[i][j] = 'D'\n",
    "                    \n",
    "if check :\n",
    "    print(0)\n",
    "else:\n",
    "    print(1)\n",
    "    for i in mokjang:\n",
    "        print(''.join(i))"
   ]
  },
  {
   "cell_type": "code",
   "execution_count": 12,
   "metadata": {},
   "outputs": [
    {
     "data": {
      "text/plain": [
       "[['D', 'D', 'S', 'D', 'D', 'D'],\n",
       " ['D', 'D', 'S', 'D', 'W', 'D'],\n",
       " ['D', 'S', 'D', 'D', 'D', 'D'],\n",
       " ['D', 'D', 'W', 'D', 'D', 'D'],\n",
       " ['D', 'D', 'D', 'W', 'D', 'D'],\n",
       " ['D', 'D', 'D', 'D', 'D', 'D']]"
      ]
     },
     "execution_count": 12,
     "metadata": {},
     "output_type": "execute_result"
    }
   ],
   "source": [
    "mokjang"
   ]
  },
  {
   "cell_type": "code",
   "execution_count": null,
   "metadata": {},
   "outputs": [],
   "source": []
  }
 ],
 "metadata": {
  "kernelspec": {
   "display_name": "Python 3",
   "language": "python",
   "name": "python3"
  },
  "language_info": {
   "codemirror_mode": {
    "name": "ipython",
    "version": 3
   },
   "file_extension": ".py",
   "mimetype": "text/x-python",
   "name": "python",
   "nbconvert_exporter": "python",
   "pygments_lexer": "ipython3",
   "version": "3.7.3"
  }
 },
 "nbformat": 4,
 "nbformat_minor": 2
}
