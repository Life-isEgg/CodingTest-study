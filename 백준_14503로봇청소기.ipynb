{
 "cells": [
  {
   "cell_type": "code",
   "execution_count": 18,
   "metadata": {},
   "outputs": [
    {
     "name": "stdout",
     "output_type": "stream",
     "text": [
      "11 10\n",
      "7 4 0\n",
      "1 1 1 1 1 1 1 1 1 1\n",
      "1 0 0 0 0 0 0 0 0 1\n",
      "1 0 0 0 1 1 1 1 0 1\n",
      "1 0 0 1 1 0 0 0 0 1\n",
      "1 0 1 1 0 0 0 0 0 1\n",
      "1 0 0 0 0 0 0 0 0 1\n",
      "1 0 0 0 0 0 0 1 0 1\n",
      "1 0 0 0 0 0 1 1 0 1\n",
      "1 0 0 0 0 0 1 1 0 1\n",
      "1 0 0 0 0 0 0 0 0 1\n",
      "1 1 1 1 1 1 1 1 1 1\n"
     ]
    },
    {
     "data": {
      "text/plain": [
       "57"
      ]
     },
     "execution_count": 18,
     "metadata": {},
     "output_type": "execute_result"
    }
   ],
   "source": [
    "#주어지는 방향의 왼쪽 방향부터 북0 동1 남2 서3 !!!!\n",
    "#북쪽을 기준으로 왼쪽은 서쪽\n",
    "\n",
    "n,m = map(int,input().split())\n",
    "r,c,d = map(int,input().split())\n",
    "mapp = [ list(map(int,input().split())) for _ in range(n)]\n",
    "\n",
    "dx = [-1,0,1,0] #방향설정 북동남서\n",
    "dy = [0,1,0,-1]\n",
    "\n",
    "#청소기 있는 현재 위치에 청소\n",
    "mapp[r][c] = 2 #1은 벽이므로 2로설정\n",
    "cnt =1\n",
    "\n",
    "while True:\n",
    "    check = False\n",
    "    for i in range(4):\n",
    "        #순서는 북 서 남 동 북 0 3 2 1 0\n",
    "        nd = (d+3)%4 \n",
    "        nx = r + dx[nd]\n",
    "        ny = c + dy[nd]\n",
    "        d = nd\n",
    "        if 0<=nx<n and 0<=ny<m and mapp[nx][ny]==0:\n",
    "            mapp[nx][ny] =2\n",
    "            r, c = nx, ny\n",
    "            cnt += 1\n",
    "            check = True\n",
    "            break\n",
    "        \n",
    "    #후진시 북->남,   \n",
    "    if not check: #모두 청소했을때\n",
    "        if mapp[r-dx[d]][c-dy[d]] == 1: #후진일때 벽\n",
    "            break\n",
    "        else:\n",
    "            r, c = r-dx[d], c-dy[d]\n",
    "            \n",
    "cnt"
   ]
  },
  {
   "cell_type": "code",
   "execution_count": 19,
   "metadata": {},
   "outputs": [
    {
     "data": {
      "text/plain": [
       "[[1, 1, 1, 1, 1, 1, 1, 1, 1, 1],\n",
       " [1, 2, 2, 2, 2, 2, 2, 2, 2, 1],\n",
       " [1, 2, 2, 2, 1, 1, 1, 1, 2, 1],\n",
       " [1, 2, 2, 1, 1, 2, 2, 2, 2, 1],\n",
       " [1, 2, 1, 1, 2, 2, 2, 2, 0, 1],\n",
       " [1, 2, 2, 2, 2, 2, 2, 2, 2, 1],\n",
       " [1, 2, 2, 2, 2, 2, 0, 1, 2, 1],\n",
       " [1, 2, 2, 2, 2, 2, 1, 1, 2, 1],\n",
       " [1, 2, 2, 2, 2, 2, 1, 1, 2, 1],\n",
       " [1, 2, 2, 2, 2, 2, 2, 2, 2, 1],\n",
       " [1, 1, 1, 1, 1, 1, 1, 1, 1, 1]]"
      ]
     },
     "execution_count": 19,
     "metadata": {},
     "output_type": "execute_result"
    }
   ],
   "source": [
    "mapp"
   ]
  },
  {
   "cell_type": "code",
   "execution_count": null,
   "metadata": {},
   "outputs": [],
   "source": []
  }
 ],
 "metadata": {
  "kernelspec": {
   "display_name": "Python 3",
   "language": "python",
   "name": "python3"
  },
  "language_info": {
   "codemirror_mode": {
    "name": "ipython",
    "version": 3
   },
   "file_extension": ".py",
   "mimetype": "text/x-python",
   "name": "python",
   "nbconvert_exporter": "python",
   "pygments_lexer": "ipython3",
   "version": "3.7.3"
  }
 },
 "nbformat": 4,
 "nbformat_minor": 2
}
