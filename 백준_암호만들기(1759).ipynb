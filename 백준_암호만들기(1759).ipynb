{
 "cells": [
  {
   "cell_type": "code",
   "execution_count": 8,
   "metadata": {},
   "outputs": [
    {
     "name": "stdout",
     "output_type": "stream",
     "text": [
      "4 6\n",
      "a t c i s w\n",
      "acis\n",
      "acit\n",
      "aciw\n",
      "acst\n",
      "acsw\n",
      "actw\n",
      "aist\n",
      "aisw\n",
      "aitw\n",
      "astw\n",
      "cist\n",
      "cisw\n",
      "citw\n",
      "istw\n"
     ]
    }
   ],
   "source": [
    "#암호만들기\n",
    "#암호 = 최소 1개의 모음, 두개의 자음, 오름차순\n",
    "\n",
    "#조합 - 순서가 없어서 원소가 같으면 같은종류 combinations\n",
    "#순열 - 순서 중요해서 원소가 같아도 순서 다르면 다른 종류 permutations\n",
    "\n",
    "#조합\n",
    "from itertools import combinations\n",
    "\n",
    "\n",
    "#입력\n",
    "l,c = map(int, input().split())\n",
    "string = list(input().split())\n",
    "string.sort()\n",
    "\n",
    "combi = list(combinations(string,l))\n",
    "\n",
    "for c in combi:\n",
    "    num1 = 0 #모음개수\n",
    "    num2 = 0 #자음개수\n",
    "    for cc in c:\n",
    "        if cc in \"aeiou\":\n",
    "            num1 += 1\n",
    "        else:\n",
    "            num2 += 1\n",
    "    if num1>=1 and num2>=2:\n",
    "        print(\"\".join(c))"
   ]
  },
  {
   "cell_type": "code",
   "execution_count": null,
   "metadata": {},
   "outputs": [],
   "source": [
    "암호 네자리\n",
    "4 6\n",
    "a t c i s w\n",
    "\n",
    "acis\n",
    "acit\n",
    "aciw\n",
    "acst\n",
    "acsw\n",
    "actw\n",
    "aist\n",
    "aisw\n",
    "aitw\n",
    "astw\n",
    "cist\n",
    "cisw\n",
    "citw\n",
    "istw"
   ]
  },
  {
   "cell_type": "code",
   "execution_count": 4,
   "metadata": {},
   "outputs": [
    {
     "data": {
      "text/plain": [
       "[('a', 'e'), ('a', 'c'), ('e', 'c')]"
      ]
     },
     "execution_count": 4,
     "metadata": {},
     "output_type": "execute_result"
    }
   ],
   "source": [
    "from itertools import combinations\n",
    "stri=['a','e','c']\n",
    "com = list(combinations(stri,2))\n",
    "com"
   ]
  },
  {
   "cell_type": "code",
   "execution_count": 5,
   "metadata": {},
   "outputs": [],
   "source": [
    "stri.sort()"
   ]
  },
  {
   "cell_type": "code",
   "execution_count": 6,
   "metadata": {},
   "outputs": [
    {
     "data": {
      "text/plain": [
       "['a', 'c', 'e']"
      ]
     },
     "execution_count": 6,
     "metadata": {},
     "output_type": "execute_result"
    }
   ],
   "source": [
    "stri"
   ]
  }
 ],
 "metadata": {
  "kernelspec": {
   "display_name": "Python 3",
   "language": "python",
   "name": "python3"
  },
  "language_info": {
   "codemirror_mode": {
    "name": "ipython",
    "version": 3
   },
   "file_extension": ".py",
   "mimetype": "text/x-python",
   "name": "python",
   "nbconvert_exporter": "python",
   "pygments_lexer": "ipython3",
   "version": "3.7.3"
  }
 },
 "nbformat": 4,
 "nbformat_minor": 2
}
