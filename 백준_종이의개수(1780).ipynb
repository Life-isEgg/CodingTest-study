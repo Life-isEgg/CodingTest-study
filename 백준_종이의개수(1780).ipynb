{
 "cells": [
  {
   "cell_type": "code",
   "execution_count": 6,
   "metadata": {},
   "outputs": [
    {
     "name": "stdout",
     "output_type": "stream",
     "text": [
      "9\n",
      "0 0 0 1 1 1 -1 -1 -1\n",
      "0 0 0 1 1 1 -1 -1 -1\n",
      "0 0 0 1 1 1 -1 -1 -1\n",
      "1 1 1 0 0 0 0 0 0\n",
      "1 1 1 0 0 0 0 0 0\n",
      "1 1 1 0 0 0 0 0 0\n",
      "0 1 -1 0 1 -1 0 1 -1\n",
      "0 -1 1 0 1 -1 0 1 -1\n",
      "0 1 -1 1 0 -1 0 1 -1\n",
      "10\n",
      "12\n",
      "11\n"
     ]
    }
   ],
   "source": [
    "def cut(i,j,k):\n",
    "    global count\n",
    "    \n",
    "    check = paper[i][j]\n",
    "    \n",
    "    for x in range(i,i+k):\n",
    "        for y in range(j,j+k):\n",
    "            if check != paper[x][y]: #9등분\n",
    "                for a in range(3):\n",
    "                    for b in range(3):\n",
    "                        cut(i+(k//3)*a, j+(k//3)*b, (k//3))\n",
    "                return\n",
    "    count[check] += 1\n",
    "\n",
    "n = int(input())\n",
    "paper = [list(map(int, input().split())) for _ in range(n)]\n",
    "count = [0,0,0] # paper 순서대로라 0,1,-1 개수\n",
    "\n",
    "cut(0,0,n)\n",
    "\n",
    "for i in range(-1,2):\n",
    "    print(count[i])\n"
   ]
  },
  {
   "cell_type": "code",
   "execution_count": 5,
   "metadata": {},
   "outputs": [
    {
     "name": "stdout",
     "output_type": "stream",
     "text": [
      "24 22 20\n"
     ]
    }
   ],
   "source": [
    "cut(0,0,n)\n",
    "\n",
    "print(*count)"
   ]
  },
  {
   "cell_type": "code",
   "execution_count": null,
   "metadata": {},
   "outputs": [],
   "source": []
  }
 ],
 "metadata": {
  "kernelspec": {
   "display_name": "Python 3",
   "language": "python",
   "name": "python3"
  },
  "language_info": {
   "codemirror_mode": {
    "name": "ipython",
    "version": 3
   },
   "file_extension": ".py",
   "mimetype": "text/x-python",
   "name": "python",
   "nbconvert_exporter": "python",
   "pygments_lexer": "ipython3",
   "version": "3.7.3"
  }
 },
 "nbformat": 4,
 "nbformat_minor": 2
}
